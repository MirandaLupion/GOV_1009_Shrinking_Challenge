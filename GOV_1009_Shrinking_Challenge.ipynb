{
 "cells": [
  {
   "cell_type": "markdown",
   "metadata": {},
   "source": [
    "# Settings"
   ]
  },
  {
   "cell_type": "code",
   "execution_count": 1,
   "metadata": {},
   "outputs": [],
   "source": [
    "# Boilerplate settings\n",
    "\n",
    "import arcpy\n",
    "\n",
    "arcpy.env.overwriteOutput = True\n",
    "\n",
    "storagefolder = r\"C:\\Users\\16316\\Documents\\ArcGIS\\Packages\\ShrinkingChallenge_0bd0fc\\p20\\shrinkingchallenge.gdb\"\n",
    "\n",
    "arcpy.env.workspace = storagefolder"
   ]
  },
  {
   "cell_type": "code",
   "execution_count": 2,
   "metadata": {},
   "outputs": [],
   "source": [
    "# Pull up feature class\n",
    "\n",
    "fc = storagefolder + r'\\numbers'"
   ]
  },
  {
   "cell_type": "markdown",
   "metadata": {},
   "source": [
    "# Keep polygons separate method"
   ]
  },
  {
   "cell_type": "code",
   "execution_count": 4,
   "metadata": {},
   "outputs": [
    {
     "data": {
      "text/plain": [
       "<Result 'C:\\\\Users\\\\16316\\\\Documents\\\\ArcGIS\\\\Packages\\\\ShrinkingChallenge_0bd0fc\\\\p20\\\\shrinkingchallenge.gdb\\\\numbers_shrunk_separate'>"
      ]
     },
     "execution_count": 4,
     "metadata": {},
     "output_type": "execute_result"
    }
   ],
   "source": [
    "# Create a list to hold a copy of the coordinates for the three polygons\n",
    "# Within this list\n",
    "# (1) Each sub list will be a polygon\n",
    "# (2) Each sub sub list a coordinate pair in the polygon \n",
    "\n",
    "fc_copy = []\n",
    "\n",
    "\n",
    "# Use the search cursor to access the polygon's geometery \n",
    "\n",
    "with arcpy.da.SearchCursor(fc,['Shape@']) as rows:\n",
    "    \n",
    "    # For each polygon\n",
    "        \n",
    "    for row in rows:\n",
    "                \n",
    "        for part in row[0]:\n",
    "            \n",
    "            # Make a sub list for every polygon\n",
    "            \n",
    "            sub_lst = []\n",
    "            for pnt in part:\n",
    "                \n",
    "                # Make a sub list for every coordinate pair\n",
    "                \n",
    "                sub_lst_coord = []\n",
    "                \n",
    "                if pnt:\n",
    "                    sub_lst_coord.append(pnt.X)\n",
    "                    sub_lst_coord.append(pnt.Y)\n",
    "                \n",
    "                # Add each coordinate pair list to the polygon sublist \n",
    "                \n",
    "                sub_lst.append(sub_lst_coord)\n",
    "                \n",
    "                del sub_lst_coord\n",
    "\n",
    "            # Add each polygon list to the fc_copy list\n",
    "            \n",
    "            fc_copy.append(sub_lst)\n",
    "            del sub_lst\n",
    "\n",
    "\n",
    "\n",
    "# Create a list to hold the ultimate feature class\n",
    "# This list will contain three polygon items\n",
    "\n",
    "fc_shrunk_lst = []           \n",
    "\n",
    "# For each polygon list in features\n",
    "# Make an array\n",
    "# Cycle through the coordinates and divide them by two\n",
    "# Add them to the array\n",
    "# Make a polygon out of that array\n",
    "# Add that polygon to the fc_list. This will ultimately be the feature class\n",
    "\n",
    "for polygon_lst in fc_copy:\n",
    "    array_of_points = arcpy.Array()\n",
    "    for coord in polygon_lst:\n",
    "        single_point = arcpy.Point()\n",
    "        single_point.X = coord[0]/(2.0)\n",
    "        single_point.Y = coord[1]/(2.0)\n",
    "        array_of_points.add(single_point)\n",
    "        del single_point\n",
    "    new_poly = arcpy.Polygon(array_of_points)\n",
    "    fc_shrunk_lst.append(new_poly)\n",
    "\n",
    "\n",
    " # Make new feature class from fc list \n",
    "\n",
    "arcpy.CopyFeatures_management(fc_shrunk_lst, \"numbers_shrunk_separate\")"
   ]
  },
  {
   "cell_type": "markdown",
   "metadata": {},
   "source": [
    "# Make single multipart polygon method"
   ]
  },
  {
   "cell_type": "code",
   "execution_count": 5,
   "metadata": {},
   "outputs": [
    {
     "data": {
      "text/plain": [
       "<Result 'C:\\\\Users\\\\16316\\\\Documents\\\\ArcGIS\\\\Packages\\\\ShrinkingChallenge_0bd0fc\\\\p20\\\\shrinkingchallenge.gdb\\\\numbers_shrunk_multipart'>"
      ]
     },
     "execution_count": 5,
     "metadata": {},
     "output_type": "execute_result"
    }
   ],
   "source": [
    "# With much help from https://community.esri.com/thread/191831-need-help-creating-multipart-polygon-output-using-arcpy\n",
    "\n",
    "# Create a list to hold the ultimate multipart poylgon \n",
    "\n",
    "features = []\n",
    "\n",
    "# Use the search cursor to access the polygon's geometery \n",
    "\n",
    "with arcpy.da.SearchCursor(fc,['Shape@']) as rows:\n",
    "    \n",
    "    # For each polygon, create an array to hold that polygon's points\n",
    "    \n",
    "    array_of_points = arcpy.Array()\n",
    "    \n",
    "    for row in rows:\n",
    "        \n",
    "        # for each polygon, cycle through the points and add them to a subarray. \n",
    "        # This subarray represents one polygon in the the multipart polygons\n",
    "        \n",
    "        for part in row[0]:\n",
    "            sub_array = arcpy.Array()\n",
    "            for pnt in part:\n",
    "                if pnt:\n",
    "                    single_point = arcpy.Point()\n",
    "                    single_point.X = (pnt.X/2.0)\n",
    "                    single_point.Y = (pnt.Y/2.0)\n",
    "                    sub_array.add(single_point)            \n",
    "            \n",
    "            sub_array.add(sub_array.getObject(0))\n",
    "            \n",
    "            # Add each polygon's subarray to a master array - the master polygon. \n",
    "            \n",
    "            array_of_points.add(sub_array)\n",
    "        \n",
    "            del sub_array\n",
    "    \n",
    "    # Create a new polygon based on the array of points\n",
    "    # Add it to the list \n",
    "    \n",
    "    \n",
    "    new_poly = arcpy.Polygon(array_of_points)\n",
    "    features.append(new_poly)\n",
    "    del array_of_points\n",
    "    del new_poly\n",
    "\n",
    "    \n",
    "# Make new feature class based on the list of polygons\n",
    "    \n",
    "arcpy.CopyFeatures_management(features, \"numbers_shrunk_multipart\")"
   ]
  }
 ],
 "metadata": {
  "kernelspec": {
   "display_name": "Python 3",
   "language": "python",
   "name": "python3"
  },
  "language_info": {
   "codemirror_mode": {
    "name": "ipython",
    "version": 3
   },
   "file_extension": ".py",
   "mimetype": "text/x-python",
   "name": "python",
   "nbconvert_exporter": "python",
   "pygments_lexer": "ipython3",
   "version": "3.6.8"
  }
 },
 "nbformat": 4,
 "nbformat_minor": 2
}
